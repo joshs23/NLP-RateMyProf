{
  "cells": [
    {
      "cell_type": "markdown",
      "metadata": {},
      "source": [
        "# **Imports and importing the data**"
      ]
    },
    {
      "cell_type": "code",
      "execution_count": 1,
      "metadata": {
        "id": "0nfVYNpQ6Hkt"
      },
      "outputs": [],
      "source": [
        "import pandas as pd\n",
        "import numpy as np\n",
        "from matplotlib import pyplot as plt\n",
        "\n",
        "rateMyProfData = pd.read_csv('Cleaned_UW_RMP.csv')\n"
      ]
    },
    {
      "cell_type": "code",
      "execution_count": 2,
      "metadata": {
        "colab": {
          "base_uri": "https://localhost:8080/",
          "height": 206
        },
        "id": "v9NPfOkU6Q3r",
        "outputId": "1ceeac36-b90e-4c88-b9cd-4d8cf4429fd5"
      },
      "outputs": [
        {
          "data": {
            "text/html": [
              "<div>\n",
              "<style scoped>\n",
              "    .dataframe tbody tr th:only-of-type {\n",
              "        vertical-align: middle;\n",
              "    }\n",
              "\n",
              "    .dataframe tbody tr th {\n",
              "        vertical-align: top;\n",
              "    }\n",
              "\n",
              "    .dataframe thead th {\n",
              "        text-align: right;\n",
              "    }\n",
              "</style>\n",
              "<table border=\"1\" class=\"dataframe\">\n",
              "  <thead>\n",
              "    <tr style=\"text-align: right;\">\n",
              "      <th></th>\n",
              "      <th>Review-Body</th>\n",
              "      <th>Date</th>\n",
              "      <th>Course-Name</th>\n",
              "      <th>Course-Number</th>\n",
              "      <th>For-Credit</th>\n",
              "      <th>Attendance</th>\n",
              "      <th>Take-Again</th>\n",
              "      <th>Grade</th>\n",
              "      <th>Textbook</th>\n",
              "      <th>Quality</th>\n",
              "      <th>Difficulty</th>\n",
              "    </tr>\n",
              "  </thead>\n",
              "  <tbody>\n",
              "    <tr>\n",
              "      <th>0</th>\n",
              "      <td>It's not hard class, but don't expect the 4.0....</td>\n",
              "      <td>2015-03-08</td>\n",
              "      <td>BUS</td>\n",
              "      <td>340.0</td>\n",
              "      <td>Yes</td>\n",
              "      <td>NaN</td>\n",
              "      <td>NaN</td>\n",
              "      <td>NaN</td>\n",
              "      <td>Yes</td>\n",
              "      <td>2.0</td>\n",
              "      <td>2.0</td>\n",
              "    </tr>\n",
              "    <tr>\n",
              "      <th>1</th>\n",
              "      <td>Syllabus was clear on what the daily homework ...</td>\n",
              "      <td>2016-02-21</td>\n",
              "      <td>BCUSP</td>\n",
              "      <td>202.0</td>\n",
              "      <td>Yes</td>\n",
              "      <td>NaN</td>\n",
              "      <td>NaN</td>\n",
              "      <td>NaN</td>\n",
              "      <td>Yes</td>\n",
              "      <td>2.5</td>\n",
              "      <td>3.0</td>\n",
              "    </tr>\n",
              "    <tr>\n",
              "      <th>2</th>\n",
              "      <td>Bridge is the coolest prof I've ever had. His ...</td>\n",
              "      <td>2023-11-20</td>\n",
              "      <td>BME</td>\n",
              "      <td>221.0</td>\n",
              "      <td>Yes</td>\n",
              "      <td>Not Mandatory</td>\n",
              "      <td>Yes</td>\n",
              "      <td>NaN</td>\n",
              "      <td>Yes</td>\n",
              "      <td>5.0</td>\n",
              "      <td>2.0</td>\n",
              "    </tr>\n",
              "    <tr>\n",
              "      <th>3</th>\n",
              "      <td>Bridge makes it abundantly clear what you need...</td>\n",
              "      <td>2020-08-22</td>\n",
              "      <td>ME</td>\n",
              "      <td>341.0</td>\n",
              "      <td>Yes</td>\n",
              "      <td>Not Mandatory</td>\n",
              "      <td>Yes</td>\n",
              "      <td>NaN</td>\n",
              "      <td>Yes</td>\n",
              "      <td>5.0</td>\n",
              "      <td>3.0</td>\n",
              "    </tr>\n",
              "    <tr>\n",
              "      <th>4</th>\n",
              "      <td>One of the best professors I have ever had. Tr...</td>\n",
              "      <td>2020-04-22</td>\n",
              "      <td>BENGR</td>\n",
              "      <td>321.0</td>\n",
              "      <td>Yes</td>\n",
              "      <td>Mandatory</td>\n",
              "      <td>Yes</td>\n",
              "      <td>NaN</td>\n",
              "      <td>Yes</td>\n",
              "      <td>5.0</td>\n",
              "      <td>3.0</td>\n",
              "    </tr>\n",
              "  </tbody>\n",
              "</table>\n",
              "</div>"
            ],
            "text/plain": [
              "                                         Review-Body        Date Course-Name  \\\n",
              "0  It's not hard class, but don't expect the 4.0....  2015-03-08         BUS   \n",
              "1  Syllabus was clear on what the daily homework ...  2016-02-21       BCUSP   \n",
              "2  Bridge is the coolest prof I've ever had. His ...  2023-11-20         BME   \n",
              "3  Bridge makes it abundantly clear what you need...  2020-08-22          ME   \n",
              "4  One of the best professors I have ever had. Tr...  2020-04-22       BENGR   \n",
              "\n",
              "   Course-Number For-Credit     Attendance Take-Again Grade Textbook  Quality  \\\n",
              "0          340.0        Yes            NaN        NaN   NaN      Yes      2.0   \n",
              "1          202.0        Yes            NaN        NaN   NaN      Yes      2.5   \n",
              "2          221.0        Yes  Not Mandatory        Yes   NaN      Yes      5.0   \n",
              "3          341.0        Yes  Not Mandatory        Yes   NaN      Yes      5.0   \n",
              "4          321.0        Yes      Mandatory        Yes   NaN      Yes      5.0   \n",
              "\n",
              "   Difficulty  \n",
              "0         2.0  \n",
              "1         3.0  \n",
              "2         2.0  \n",
              "3         3.0  \n",
              "4         3.0  "
            ]
          },
          "execution_count": 2,
          "metadata": {},
          "output_type": "execute_result"
        }
      ],
      "source": [
        "rateMyProfData.head()"
      ]
    },
    {
      "cell_type": "markdown",
      "metadata": {},
      "source": [
        "# **Data Analysis**"
      ]
    },
    {
      "cell_type": "markdown",
      "metadata": {},
      "source": [
        "## **Further Data Checking and Cleaning**"
      ]
    },
    {
      "cell_type": "code",
      "execution_count": 4,
      "metadata": {},
      "outputs": [
        {
          "data": {
            "text/plain": [
              "Review-Body        1\n",
              "Date               0\n",
              "Course-Name       83\n",
              "Course-Number    522\n",
              "Quality            0\n",
              "Difficulty         0\n",
              "dtype: int64"
            ]
          },
          "execution_count": 4,
          "metadata": {},
          "output_type": "execute_result"
        }
      ],
      "source": [
        "# See the null values by each row\n",
        "rateMyProfData.isnull().sum()"
      ]
    },
    {
      "cell_type": "markdown",
      "metadata": {},
      "source": [
        "In the above cell, we can see there are a significant number of null values in the columns that are optional for users when leaving a review. Due to the sheer number of null values, This information is not neccessary or useful. We will drop these for the rest of our analysis."
      ]
    },
    {
      "cell_type": "code",
      "execution_count": 3,
      "metadata": {},
      "outputs": [],
      "source": [
        "rateMyProfData.drop(columns=['For-Credit', \n",
        "                         'Attendance', \n",
        "                         'Take-Again', \n",
        "                         'Grade', \n",
        "                         'Textbook'], inplace=True)"
      ]
    },
    {
      "cell_type": "markdown",
      "metadata": {},
      "source": [
        "Further we need to deal with the null values that are still in place. For the review body, there is only one null value, and the review body is necessary so we will drop this row."
      ]
    },
    {
      "cell_type": "code",
      "execution_count": 6,
      "metadata": {},
      "outputs": [],
      "source": [
        "rateMyProfData = rateMyProfData.dropna(subset=['Review-Body'])"
      ]
    },
    {
      "cell_type": "markdown",
      "metadata": {},
      "source": [
        "** MAYBE DROP THE COURSE NAME/NUMBER OR DROP THE ROWS WITH NULLS WE NEED TO DECIDE THIS**"
      ]
    },
    {
      "cell_type": "code",
      "execution_count": 1,
      "metadata": {},
      "outputs": [],
      "source": [
        "### rateMyProfData = rateMyProfData.dropna(subset=['Course-Name', 'Course-Number'])\n",
        "##  rateMyProfData['Course-Number'] = [str(num)[0] for num in rateMyProfData['Course-Number']] # user input data is all over the place, \n",
        "#   take the first digit for the class year, ie 1 = 100 level, 4 = 400 level.\n",
        "#\n",
        "#   PICK ONE\n",
        "##\n",
        "### rateMyProfData.drop(columns=['Course-Name', 'Course-Number'], inplace=True)"
      ]
    },
    {
      "cell_type": "markdown",
      "metadata": {},
      "source": [
        "## **Data Analysis**"
      ]
    },
    {
      "cell_type": "code",
      "execution_count": 3,
      "metadata": {
        "colab": {
          "base_uri": "https://localhost:8080/",
          "height": 452
        },
        "id": "DyHq1bYa7C_g",
        "outputId": "69f229ab-8926-4ce4-bbb9-65df2a4461f9"
      },
      "outputs": [
        {
          "data": {
            "image/png": "[encoded data removed]",
            "text/plain": [
              "<Figure size 640x480 with 1 Axes>"
            ]
          },
          "metadata": {},
          "output_type": "display_data"
        }
      ],
      "source": [
        "rateMyProfData['Quality'].plot(kind='hist', bins=9, title='Quality')\n",
        "plt.gca().spines[['top', 'right',]].set_visible(False)"
      ]
    },
    {
      "cell_type": "code",
      "execution_count": 4,
      "metadata": {
        "colab": {
          "base_uri": "https://localhost:8080/",
          "height": 452
        },
        "id": "Y_NDSKKL8MZj",
        "outputId": "1f6ff970-889b-4523-c55c-3b44f56af047"
      },
      "outputs": [
        {
          "data": {
            "image/png": "[encoded data removed]",
            "text/plain": [
              "<Figure size 640x480 with 1 Axes>"
            ]
          },
          "metadata": {},
          "output_type": "display_data"
        }
      ],
      "source": [
        "rateMyProfData['Difficulty'].plot(kind='hist', bins=9, title='Difficulty')\n",
        "plt.gca().spines[['top', 'right',]].set_visible(False)"
      ]
    },
    {
      "cell_type": "code",
      "execution_count": null,
      "metadata": {},
      "outputs": [],
      "source": [
        "# rateMyProfData['Course-Number'].value_counts().plot(kind='bar')\n",
        "# plt.gca().spines[['top', 'right',]].set_visible(False)"
      ]
    },
    {
      "cell_type": "code",
      "execution_count": null,
      "metadata": {},
      "outputs": [],
      "source": [
        "# fig, axes = plt.subplots(2, 2, figsize=(12, 10))\n",
        "\n",
        "# for i, course_number in enumerate([1, 2, 3, 4]):\n",
        "#   ax = axes[i // 2, i % 2]\n",
        "#   course_data = rateMyProfData[rateMyProfData['Course-Number'] == str(course_number)]\n",
        "#   course_data['Quality'].plot(kind='hist', bins=9, title=f'Quality Distribution for {course_number}00 level courses', ax=ax)\n",
        "#   ax.spines[['top', 'right']].set_visible(False)\n",
        "\n",
        "# plt.tight_layout()"
      ]
    },
    {
      "cell_type": "code",
      "execution_count": null,
      "metadata": {},
      "outputs": [],
      "source": [
        "# fig, axes = plt.subplots(2, 2, figsize=(12, 10))\n",
        "\n",
        "# for i, course_number in enumerate([1, 2, 3, 4]):\n",
        "#   ax = axes[i // 2, i % 2]\n",
        "#   course_data = rateMyProfData[rateMyProfData['Course-Number'] == str(course_number)]\n",
        "#   course_data['Difficulty'].plot(kind='hist', bins=5, title=f'Difficulty Distribution for {course_number}00 level courses', ax=ax, width=0.6)\n",
        "#   ax.spines[['top', 'right']].set_visible(False)\n",
        "\n",
        "# plt.tight_layout()"
      ]
    },
    {
      "cell_type": "code",
      "execution_count": null,
      "metadata": {},
      "outputs": [],
      "source": [
        "# course_counts = rateMyProfData['Course-Name'].value_counts()\n",
        "# for course_name, count in course_counts.items():\n",
        "#   if count > 100:\n",
        "#     print(f\"{course_name}: {count}\")"
      ]
    },
    {
      "cell_type": "code",
      "execution_count": null,
      "metadata": {},
      "outputs": [],
      "source": [
        "# fig, axes = plt.subplots(3, 3, figsize=(12, 10))\n",
        "\n",
        "# for i, course_name in enumerate(course_counts.index[:9]):\n",
        "#   ax = axes[i // 3, i % 3]\n",
        "#   course_data = rateMyProfData[rateMyProfData['Course-Name'] == course_name]\n",
        "#   course_data['Quality'].plot(kind='hist', bins=9, title=course_name, ax=ax)\n",
        "#   ax.spines[['top', 'right']].set_visible(False)\n",
        "\n",
        "# plt.tight_layout()"
      ]
    },
    {
      "cell_type": "markdown",
      "metadata": {},
      "source": [
        "Possible analysis with Course name, number, date, etc."
      ]
    },
    {
      "cell_type": "markdown",
      "metadata": {},
      "source": [
        "## **Prediction of Quality and Difficulty**"
      ]
    },
    {
      "cell_type": "code",
      "execution_count": null,
      "metadata": {},
      "outputs": [],
      "source": []
    }
  ],
  "metadata": {
    "colab": {
      "provenance": []
    },
    "kernelspec": {
      "display_name": "Python 3",
      "name": "python3"
    },
    "language_info": {
      "codemirror_mode": {
        "name": "ipython",
        "version": 3
      },
      "file_extension": ".py",
      "mimetype": "text/x-python",
      "name": "python",
      "nbconvert_exporter": "python",
      "pygments_lexer": "ipython3",
      "version": "3.11.3"
    }
  },
  "nbformat": 4,
  "nbformat_minor": 0
}
